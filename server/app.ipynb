{
 "cells": [
  {
   "cell_type": "code",
   "execution_count": 1,
   "id": "e01858f7",
   "metadata": {},
   "outputs": [],
   "source": [
    "from typing import TypedDict,Annotated,Optional\n",
    "from dotenv import load_dotenv\n",
    "import os\n",
    "from uuid import uuid4\n",
    "from langgraph.checkpoint.memory import MemorySaver\n",
    "from langchain_community.tools.tavily_search import TavilySearchResults\n",
    "from langchain_google_genai import ChatGoogleGenerativeAI\n",
    "from langgraph.graph import add_messages, StateGraph,END"
   ]
  },
  {
   "cell_type": "code",
   "execution_count": 3,
   "id": "5757cfa1",
   "metadata": {},
   "outputs": [
    {
     "data": {
      "text/plain": [
       "True"
      ]
     },
     "execution_count": 3,
     "metadata": {},
     "output_type": "execute_result"
    }
   ],
   "source": [
    "import json\n",
    "load_dotenv()"
   ]
  },
  {
   "cell_type": "code",
   "execution_count": 11,
   "id": "b58922e4",
   "metadata": {},
   "outputs": [],
   "source": [
    "model= ChatGoogleGenerativeAI(\n",
    "    model=\"gemini-2.5-flash-lite\",\n",
    "    google_api_key=os.getenv(\"GEMINI_API_KEY\"))\n",
    "search_tool = TavilySearchResults(max_results=4)\n",
    "tools=[search_tool]\n",
    "memory=MemorySaver()"
   ]
  },
  {
   "cell_type": "code",
   "execution_count": 12,
   "id": "0e9ab33e",
   "metadata": {},
   "outputs": [
    {
     "data": {
      "text/plain": [
       "AIMessage(content='', additional_kwargs={'function_call': {'name': 'tavily_search_results_json', 'arguments': '{\"query\": \"Current weather in Kolkata\"}'}}, response_metadata={'prompt_feedback': {'block_reason': 0, 'safety_ratings': []}, 'finish_reason': 'STOP', 'model_name': 'gemini-2.5-flash-lite', 'safety_ratings': []}, id='run--e39d03e3-4cad-4fae-9ffa-4c1f1571a026-0', tool_calls=[{'name': 'tavily_search_results_json', 'args': {'query': 'Current weather in Kolkata'}, 'id': '06762ec0-0d7f-4bc3-94e5-6ad70122a325', 'type': 'tool_call'}], usage_metadata={'input_tokens': 79, 'output_tokens': 24, 'total_tokens': 103, 'input_token_details': {'cache_read': 0}})"
      ]
     },
     "execution_count": 12,
     "metadata": {},
     "output_type": "execute_result"
    }
   ],
   "source": [
    "llm_with_tools=model.bind_tools(tools=tools)\n",
    "llm_with_tools.invoke(\"Current weather At kolkata\")"
   ]
  },
  {
   "cell_type": "code",
   "execution_count": 13,
   "id": "5416271a",
   "metadata": {},
   "outputs": [],
   "source": [
    "from langchain_core.messages import AIMessage,HumanMessage,ToolMessage"
   ]
  },
  {
   "cell_type": "code",
   "execution_count": 14,
   "id": "d672bf70",
   "metadata": {},
   "outputs": [],
   "source": [
    "class State(TypedDict):\n",
    "    messages:Annotated[list,add_messages]"
   ]
  },
  {
   "cell_type": "code",
   "execution_count": 27,
   "id": "1a20113c",
   "metadata": {},
   "outputs": [],
   "source": [
    "async def model(state:State):\n",
    "    result=await llm_with_tools.ainvoke(state['messages'])\n",
    "    return {\n",
    "        'messages':[result],\n",
    "    }"
   ]
  },
  {
   "cell_type": "code",
   "execution_count": 28,
   "id": "327665ec",
   "metadata": {},
   "outputs": [],
   "source": [
    "async def tools_router(state:State):\n",
    "    last_message=state['messages'][-1]\n",
    "    if(hasattr(last_message,\"tool_calls\")and len(last_message.tool_calls)>0):\n",
    "        return \"tool_node\"\n",
    "    else:\n",
    "        return END"
   ]
  },
  {
   "cell_type": "code",
   "execution_count": 29,
   "id": "9ba314d3",
   "metadata": {},
   "outputs": [],
   "source": [
    "async def tool_node(state):\n",
    "    \"\"\"Custom tool node to handle tool call from llm\"\"\"\n",
    "    tool_calls=state[\"messages\"][-1].tool_calls\n",
    "    tool_messages=[]\n",
    "    for tool_call in tool_calls:\n",
    "        tool_name=tool_call[\"name\"]\n",
    "        tool_args=tool_call[\"args\"]\n",
    "        tool_id=tool_call[\"id\"]\n",
    "        if tool_name==\"tavily_search_results_json\":\n",
    "            search_results=await search_tool.ainvoke(tool_args)\n",
    "            tool_message=ToolMessage(\n",
    "                content=str(search_results),\n",
    "                tool_call_id=tool_id,\n",
    "                name=tool_name\n",
    "            )\n",
    "            tool_messages.append(tool_message)\n",
    "    return {\"messages\":tool_messages}"
   ]
  },
  {
   "cell_type": "code",
   "execution_count": 30,
   "id": "2e5c0170",
   "metadata": {},
   "outputs": [],
   "source": [
    "graph=StateGraph(State)\n",
    "graph.add_node(\"model\",model)\n",
    "graph.add_node(\"tool_node\",tool_node)\n",
    "graph.set_entry_point(\"model\")\n",
    "graph.add_conditional_edges(\n",
    "    \"model\",\n",
    "    tools_router,\n",
    "    {\n",
    "        \"tool_node\": \"tool_node\",\n",
    "        END: END,\n",
    "    }\n",
    ")\n",
    "\n",
    "graph.add_edge(\"tool_node\",\"model\")\n",
    "workflow=graph.compile(checkpointer=memory)\n"
   ]
  },
  {
   "cell_type": "code",
   "execution_count": 31,
   "id": "22159232",
   "metadata": {},
   "outputs": [
    {
     "data": {
      "image/png": "[encoded data removed]",
      "text/plain": [
       "<IPython.core.display.Image object>"
      ]
     },
     "metadata": {},
     "output_type": "display_data"
    }
   ],
   "source": [
    "from IPython.display import Image,display\n",
    "from langchain_core.runnables.graph import MermaidDrawMethod\n",
    "display(\n",
    "    Image(\n",
    "        workflow.get_graph().draw_mermaid_png(\n",
    "            draw_method=MermaidDrawMethod.API\n",
    "        )\n",
    "    )\n",
    ")"
   ]
  },
  {
   "cell_type": "code",
   "execution_count": 35,
   "id": "e170ca7f",
   "metadata": {},
   "outputs": [
    {
     "data": {
      "text/plain": [
       "{'messages': [HumanMessage(content='How are you doing', additional_kwargs={}, response_metadata={}, id='c3f0167d-be8b-4451-ba7b-d39679bbbb6b'),\n",
       "  HumanMessage(content='How are you doing', additional_kwargs={}, response_metadata={}, id='eb53ce25-787e-465f-8db1-b5b6df5546db'),\n",
       "  AIMessage(content=\"I'm doing well, thank you for asking! I'm ready to help you with any questions or tasks you have.\", additional_kwargs={}, response_metadata={'prompt_feedback': {'block_reason': 0, 'safety_ratings': []}, 'finish_reason': 'STOP', 'model_name': 'gemini-2.5-flash-lite', 'safety_ratings': []}, id='run--6677f9ed-73f9-4cfa-a057-9267d8190c6b-0', usage_metadata={'input_tokens': 83, 'output_tokens': 26, 'total_tokens': 109, 'input_token_details': {'cache_read': 0}}),\n",
       "  HumanMessage(content='myself raju', additional_kwargs={}, response_metadata={}, id='8847b511-7ded-4630-847e-52de458e2a4c'),\n",
       "  AIMessage(content='It is nice to meet you, Raju! I am a large language model, trained by Google. How can I help you today?', additional_kwargs={}, response_metadata={'prompt_feedback': {'block_reason': 0, 'safety_ratings': []}, 'finish_reason': 'STOP', 'model_name': 'gemini-2.5-flash-lite', 'safety_ratings': []}, id='run--b42d0f2c-95fe-41ce-a7db-d8628827a569-0', usage_metadata={'input_tokens': 115, 'output_tokens': 27, 'total_tokens': 142, 'input_token_details': {'cache_read': 0}}),\n",
       "  HumanMessage(content='tell my name', additional_kwargs={}, response_metadata={}, id='565dd18f-b465-45ba-bf69-e3b8a1d01796'),\n",
       "  AIMessage(content='Your name is Raju.', additional_kwargs={}, response_metadata={'prompt_feedback': {'block_reason': 0, 'safety_ratings': []}, 'finish_reason': 'STOP', 'model_name': 'gemini-2.5-flash-lite', 'safety_ratings': []}, id='run--56f12d27-08e5-4874-813c-885105c662e6-0', usage_metadata={'input_tokens': 147, 'output_tokens': 5, 'total_tokens': 152, 'input_token_details': {'cache_read': 0}}),\n",
       "  HumanMessage(content='Release date of Param Sundari movie', additional_kwargs={}, response_metadata={}, id='dd0cacad-1538-49a1-8cda-787e5fd4bf3f'),\n",
       "  AIMessage(content='', additional_kwargs={'function_call': {'name': 'tavily_search_results_json', 'arguments': '{\"query\": \"Param Sundari movie release date\"}'}}, response_metadata={'prompt_feedback': {'block_reason': 0, 'safety_ratings': []}, 'finish_reason': 'STOP', 'model_name': 'gemini-2.5-flash-lite', 'safety_ratings': []}, id='run--dc888a70-fb46-4126-a94a-6588f05b35de-0', tool_calls=[{'name': 'tavily_search_results_json', 'args': {'query': 'Param Sundari movie release date'}, 'id': '22de8944-5fb4-4804-9118-ce3c2b1aefee', 'type': 'tool_call'}], usage_metadata={'input_tokens': 161, 'output_tokens': 26, 'total_tokens': 187, 'input_token_details': {'cache_read': 0}}),\n",
       "  ToolMessage(content='[{\\'title\\': \\'Param Sundari (film) - Wikipedia\\', \\'url\\': \\'https://en.wikipedia.org/wiki/Param_Sundari_(film)\\', \\'content\\': \"| Param Sundari | |\\\\n| --- | --- |\\\\n| First look poster | |\\\\n| Directed by | Tushar Jalota |\\\\n| Screenplay by | Aarsh Vora Tushar Jalota |\\\\n| Story by | Gaurav Mishra  Aarsh Vora Tushar Jalota |\\\\n| Produced by | Dinesh Vijan |\\\\n| Starring |  Sidharth Malhotra  Janhvi Kapoor |\\\\n| Cinematography | Santhana Krishnan Ravichandran |\\\\n| Music by | Sachin-Jigar |\\\\n| Production company | Maddock Films |\\\\n| Release date |  25 July 2025 (2025-07-25) |\\\\n| Country | India |\\\\n| Language | Hindi | [...] Param Sundari (transl.\\\\u2009Eternal beauty) is an upcoming Indian Hindi-language romantic comedy film directed by Tushar Jalota and produced by Dinesh Vijan under Maddock Films. The film stars Sidharth Malhotra and Janhvi Kapoor in lead roles.\\\\n\\\\nThe film is set to theatrically release date on 25 July 2025.\\\\n\\\\n## Cast\\\\n\\\\n## Production\\\\n\\\\nThe film was first reported to be in development in November 2024. It was officially announced on 24 December 2024 by Maddock Films.\\\\n\\\\n### Filming [...] The Kerala schedule began on 19 January 2025 and wrapped on 18 February 2025.\\\\n\\\\n## Marketing\\\\n\\\\nThe first look of the film was unveiled on 24 December 2024. The film\\'s teaser trailer was released on 29 May 2025.\\\\n\\\\n## Release\\\\n\\\\nParam Sundari is scheduled to be released in theatres on 25 July 2025.\\\\n\\\\n## References\\\\n\\\\n## External links\\\\n\\\\nWikimedia Foundation\\\\nPowered by MediaWiki\", \\'score\\': 0.950342}, {\\'title\\': \"\\'Param Sundari\\' Sets New Release Date: August 29 | THR India\", \\'url\\': \\'https://www.hollywoodreporterindia.com/features/insight/param-sundari-sidharth-malhotra-and-janhvi-kapoors-romance-gets-new-release-date-will-arrive-on-august-29\\', \\'content\\': \"The makers announced the new release date and also dropped a new song, \\'Pardesiya\\'\\\\n\\\\nTeam THR India\\\\nJanhvi Kapoor and Sidharth Malhotra in \\'Param Sundari\\'\\\\n\\\\nSidharth Malhotra and Janhvi Kapoor\\'s cross-cultural romance Param Sundari has a new release date. Initially slated for July 25, the film has been pushed by over a month, and will release in theatres on August 29. The Maddock Films love story will open in cinemas two weeks after August\\'s biggest Hindi release, War 2. [...] Earlier, Ajay Devgn\\'s comedy Son of Sardaar 2, originally scheduled for July 25, was deferred by a week amid the success of Mohit Suri\\'s Saiyaara.\\\\n\\\\n## You may also like\\\\n\\\\nParam Sundari is directed by Tushar Jalota and co-written by Jalota, Gaurav Mishra and Aarsh Vora. The film traces the love story of a North Indian boy, Param, and a South Indian girl, Sundari, and how their contrasting worlds collide. [...] The makers announced the new release date and also dropped a new song, \\'Pardesiya\\', a Kerala-flavoured romantic ballad sung by Sonu Nigam and Krishnakali Saha and composed by Sachin-Jigar. The snatches of the track were featured in the film\\'s teaser.\", \\'score\\': 0.9317675}, {\\'title\\': \\'Badlapur 2 announced; Thama, Param Sundari get OTT home: All the takeaways from Prime ...\\', \\'url\\': \\'https://www.hindustantimes.com/entertainment/bollywood/badlapur-2-announced-thama-ott-release-param-sundari-ott-release-amazon-prime-video-maddock-films-deal-ikkis-shiddat-2-101755778667274.html\\', \\'content\\': \"Badlapur 2 is on the way. The original starred Varun Dhawan, Yami Gautam, and Nawazuddin Siddiqui.\\\\n\\\\n## Param Sundari and Thama to stream on Prime Video\\\\n\\\\nAs part of the deal, Prime Video will be the exclusive streaming home to Maddock Films’ slate of movies releasing theatrically between 2025 and 2027, the streamer said in a statement. The line-up includes romantic comedy Param Sundari, starring Sidharth Malhotra and Janhvi Kapoor, scheduled for theatrical release on August 29. [...] On Thursday, Prime Video\\'s multi-year collaboration with Maddock Films could have slipped under the radar as ‘business news’ if not for some surprising hashtags in the announcement post on social media. Not only does the deal give the streaming giant worldwide-exclusive post-theatrical streaming rights to already-announced upcoming films like Thama and Param Sundari, but also to titles that were not announced before, such as a sequel to Badlapur. [...] Sequels to Maddock\\'s past hits Shiddat and Badlapur, along with the Sriram Raghavan-directed Ikkis featuring Agastya Nanda, will also debut on Prime Video after their release in theatres.\\\\n\\\\nDinesh Vijan, founder and CEO of Maddock Films, said the partnership reflects a shared vision to take Indian storytelling to a global audience.\", \\'score\\': 0.8319231}, {\\'title\\': \\'Param Sundari - Official Trailer | Sidharth M | Janhvi K | Dinesh V\\', \\'url\\': \\'https://www.youtube.com/watch?v=fdWnfzsx-ks\\', \\'content\\': \\'# Param Sundari - Official Trailer | Sidharth M | Janhvi K | Dinesh V | Tushar J | In Cinemas 29th Aug\\\\n## Maddock Films\\\\n1690000 subscribers\\\\n446352 likes\\\\n\\\\n### Description\\\\n37570503 views\\\\nPosted: 12 Aug 2025\\\\nDilli ka munda Param is bringing full-on Punjabiyon ka swag aur siyappa to Sundari’s God’s Own Country! 🌴\\\\n\\\\nThe biggest love story of the year — #ParamSundari ❤️✨\\\\nPresented by Dinesh Vijan, directed by Tushar Jalota in cinemas 29th August.\\\\n\\\\nTrailer out now! [...] #ParamSundariTrailer #ParamSundariOn29Aug\\\\n\\\\nMaddock Films presents #ParamSundari\\', \\'score\\': 0.6989468}]', name='tavily_search_results_json', id='96c2ed35-dfb1-4b06-a1bd-53e5516d5a25', tool_call_id='22de8944-5fb4-4804-9118-ce3c2b1aefee'),\n",
       "  AIMessage(content='The movie \"Param Sundari\" is scheduled to be released on August 29, 2025.', additional_kwargs={}, response_metadata={'prompt_feedback': {'block_reason': 0, 'safety_ratings': []}, 'finish_reason': 'STOP', 'model_name': 'gemini-2.5-flash-lite', 'safety_ratings': []}, id='run--452832bc-9d92-4c06-8068-bc64c1964d98-0', usage_metadata={'input_tokens': 1812, 'output_tokens': 24, 'total_tokens': 1836, 'input_token_details': {'cache_read': 0}})]}"
      ]
     },
     "execution_count": 35,
     "metadata": {},
     "output_type": "execute_result"
    }
   ],
   "source": [
    "config={\n",
    "    \"configurable\":{\n",
    "        \"thread_id\":5\n",
    "    }\n",
    "}\n",
    "response=await workflow.ainvoke({\n",
    "    \"messages\":[HumanMessage(content=\"Release date of Param Sundari movie\")]\n",
    "},config=config)\n",
    "response"
   ]
  },
  {
   "cell_type": "code",
   "execution_count": 40,
   "id": "83cbb035",
   "metadata": {},
   "outputs": [
    {
     "name": "stdout",
     "output_type": "stream",
     "text": [
      "SpaceX, founded by Elon Musk in 2002, has revolutionized the aerospace industry with its ambitious goals and groundbreaking innovations. The company's primary objective is to reduce space transportation costs and enable the colonization of Mars. SpaceX designs, manufactures, and launches advanced rockets and spacecraft, including the Falcon 9, Falcon Heavy, and the Dragon capsule.\n",
      "\n",
      "A key to SpaceX's success has been its development of reusable rocket technology. By landing and reusing its orbital-class rockets, SpaceX has significantly lowered the cost of space access, making space exploration more attainable. This reusability has been demonstrated consistently with the Falcon 9, which has completed numerous successful landings on both land and autonomous droneships.\n",
      "\n",
      "SpaceX's Dragon spacecraft is another major achievement. It is the first private spacecraft capable of carrying cargo and, later, astronauts to the International Space Station (ISS). This capability has made SpaceX a crucial partner for NASA's Commercial Crew Program, restoring American human spaceflight capabilities.\n",
      "\n",
      "Beyond Earth orbit, SpaceX is developing Starship, a fully reusable super heavy-lift launch vehicle designed for interplanetary travel. Starship is intended to carry humans and cargo to the Moon, Mars, and beyond, representing a monumental leap towards Musk's vision of a multi-planetary species.\n",
      "\n",
      "SpaceX's impact extends beyond technological advancements. The company has fostered a culture of rapid iteration and problem-solving, pushing the boundaries of what is considered possible in spaceflight. With its continuous innovation and bold aspirations, SpaceX is undeniably shaping the future of space exploration."
     ]
    }
   ],
   "source": [
    "config = {\n",
    "    \"configurable\": {\n",
    "        \"thread_id\": 8\n",
    "    }\n",
    "}\n",
    "\n",
    "async for event in workflow.astream_events({\n",
    "    \"messages\": [HumanMessage(content=\"100 word essay on spacex\")],\n",
    "}, config=config, version=\"v2\"):\n",
    "    # print(event)\n",
    "    if event[\"event\"]==\"on_chat_model_stream\":\n",
    "        print(event[\"data\"][\"chunk\"].content,end=\"\",flush=True)"
   ]
  },
  {
   "cell_type": "code",
   "execution_count": null,
   "id": "aa463442",
   "metadata": {},
   "outputs": [],
   "source": []
  }
 ],
 "metadata": {
  "kernelspec": {
   "display_name": "venv",
   "language": "python",
   "name": "python3"
  },
  "language_info": {
   "codemirror_mode": {
    "name": "ipython",
    "version": 3
   },
   "file_extension": ".py",
   "mimetype": "text/x-python",
   "name": "python",
   "nbconvert_exporter": "python",
   "pygments_lexer": "ipython3",
   "version": "3.11.4"
  }
 },
 "nbformat": 4,
 "nbformat_minor": 5
}
